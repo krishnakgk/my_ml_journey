{
 "cells": [
  {
   "cell_type": "markdown",
   "id": "97a8f485",
   "metadata": {},
   "source": [
    "## Assignment 2"
   ]
  },
  {
   "cell_type": "markdown",
   "id": "fb22d0a8",
   "metadata": {},
   "source": [
    "### 1. Create the below pattern using nested for loop in Python."
   ]
  },
  {
   "cell_type": "markdown",
   "id": "ce6707ce",
   "metadata": {},
   "source": [
    "* \n",
    "* * \n",
    "* * * \n",
    "* * * * \n",
    "* * * * * \n",
    "* * * * \n",
    "* * * \n",
    "* * \n",
    "* "
   ]
  },
  {
   "cell_type": "code",
   "execution_count": 4,
   "id": "053b1176",
   "metadata": {},
   "outputs": [
    {
     "name": "stdout",
     "output_type": "stream",
     "text": [
      "\n",
      "* \n",
      "* * \n",
      "* * * \n",
      "* * * * \n",
      "* * * * * \n",
      "* * * * \n",
      "* * * \n",
      "* * \n",
      "* \n"
     ]
    }
   ],
   "source": [
    "def print_star_pattern():\n",
    "    for i in range(6):\n",
    "        for j in range(i):\n",
    "            print(\"*\", end = \" \")\n",
    "        print(end=\"\\n\")\n",
    "    for k in range(4, 0, -1):\n",
    "        for l in range(k):\n",
    "            print(\"*\", end = \" \")\n",
    "        print(end=\"\\n\")\n",
    "print_star_pattern()"
   ]
  },
  {
   "cell_type": "markdown",
   "id": "026beaaa",
   "metadata": {},
   "source": [
    "### 2. Write a Python program to reverse a word after accepting the input from the user."
   ]
  },
  {
   "cell_type": "code",
   "execution_count": 1,
   "id": "6f8b8f83",
   "metadata": {},
   "outputs": [
    {
     "name": "stdout",
     "output_type": "stream",
     "text": [
      "Input any word to reverse it Ineuron\n",
      "The word you entered reversed is noruenI\n"
     ]
    }
   ],
   "source": [
    "input_from_user = input(\"Input any word to reverse it \")\n",
    "print(f\"The word you entered reversed is {input_from_user[::-1]}\")"
   ]
  }
 ],
 "metadata": {
  "kernelspec": {
   "display_name": "Python 3",
   "language": "python",
   "name": "python3"
  },
  "language_info": {
   "codemirror_mode": {
    "name": "ipython",
    "version": 3
   },
   "file_extension": ".py",
   "mimetype": "text/x-python",
   "name": "python",
   "nbconvert_exporter": "python",
   "pygments_lexer": "ipython3",
   "version": "3.8.8"
  }
 },
 "nbformat": 4,
 "nbformat_minor": 5
}
